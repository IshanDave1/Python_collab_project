{
  "nbformat": 4,
  "nbformat_minor": 0,
  "metadata": {
    "colab": {
      "provenance": [],
      "authorship_tag": "ABX9TyMacoVgE6kIHPJmndDHpPUL",
      "include_colab_link": true
    },
    "kernelspec": {
      "name": "python3",
      "display_name": "Python 3"
    },
    "language_info": {
      "name": "python"
    }
  },
  "cells": [
    {
      "cell_type": "markdown",
      "metadata": {
        "id": "view-in-github",
        "colab_type": "text"
      },
      "source": [
        "<a href=\"https://colab.research.google.com/github/IshanDave1/Python_collab_project/blob/main/Lect_2.ipynb\" target=\"_parent\"><img src=\"https://colab.research.google.com/assets/colab-badge.svg\" alt=\"Open In Colab\"/></a>"
      ]
    },
    {
      "cell_type": "markdown",
      "source": [
        "Python and collab :\n",
        "1. Collab cells are blocks of execution\n",
        "2. Last evaluated value (per runtime) is stored"
      ],
      "metadata": {
        "id": "JF-2MV8tnsHV"
      }
    },
    {
      "cell_type": "markdown",
      "source": [
        "##Values in Python\n"
      ],
      "metadata": {
        "id": "AmzFjZBinjPt"
      }
    },
    {
      "cell_type": "code",
      "execution_count": null,
      "metadata": {
        "colab": {
          "base_uri": "https://localhost:8080/"
        },
        "id": "-XKQ5eqA0B49",
        "outputId": "467e64a9-7c6f-4909-87a8-8c63954d7d33"
      },
      "outputs": [
        {
          "output_type": "stream",
          "name": "stdout",
          "text": [
            "9\n"
          ]
        }
      ],
      "source": [
        "def add(a,b):\n",
        "  return a+b\n",
        "\n",
        "print(add(4,5))"
      ]
    },
    {
      "cell_type": "code",
      "source": [
        "print(len([1,2,3,4]))"
      ],
      "metadata": {
        "colab": {
          "base_uri": "https://localhost:8080/"
        },
        "id": "5NQ2BJxA2UQC",
        "outputId": "9fd10241-ea05-45c6-d163-2b9d906e4ab0"
      },
      "execution_count": null,
      "outputs": [
        {
          "output_type": "stream",
          "name": "stdout",
          "text": [
            "4\n"
          ]
        }
      ]
    },
    {
      "cell_type": "code",
      "source": [
        "from math import *\n",
        "print(sqrt(2))\n",
        "print(pow(2,4))\n",
        "print(log10(1000))"
      ],
      "metadata": {
        "colab": {
          "base_uri": "https://localhost:8080/"
        },
        "id": "d7AwNlpw27Yh",
        "outputId": "bfb9b018-00cd-401f-c728-1cd9582eccaf"
      },
      "execution_count": null,
      "outputs": [
        {
          "output_type": "stream",
          "name": "stdout",
          "text": [
            "1.4142135623730951\n",
            "16.0\n",
            "3.0\n"
          ]
        }
      ]
    },
    {
      "cell_type": "code",
      "source": [
        "#default arg\n",
        "print(list(range(4,10)))\n",
        "print(list(range(1,10,3)))"
      ],
      "metadata": {
        "colab": {
          "base_uri": "https://localhost:8080/"
        },
        "id": "a-oTLRpT4U25",
        "outputId": "6731570f-1e49-4c6e-f2f1-823f40b3f0f1"
      },
      "execution_count": null,
      "outputs": [
        {
          "output_type": "stream",
          "name": "stdout",
          "text": [
            "[4, 5, 6, 7, 8, 9]\n",
            "[1, 4, 7]\n"
          ]
        }
      ]
    },
    {
      "cell_type": "code",
      "source": [
        "def greet(user_name = \"user\"):\n",
        "  print(\"Hello, \",user_name)\n",
        "\n",
        "greet()"
      ],
      "metadata": {
        "colab": {
          "base_uri": "https://localhost:8080/"
        },
        "id": "w7z-dgzl5nvQ",
        "outputId": "1f916315-1986-4d39-edc8-a83f28c6a02c"
      },
      "execution_count": null,
      "outputs": [
        {
          "output_type": "stream",
          "name": "stdout",
          "text": [
            "Hello,  user\n"
          ]
        }
      ]
    },
    {
      "cell_type": "code",
      "source": [
        "def power(base,exp=1):\n",
        "  return base**exp\n",
        "\n",
        "print(power(7))"
      ],
      "metadata": {
        "colab": {
          "base_uri": "https://localhost:8080/"
        },
        "id": "hQhbYebz6RAo",
        "outputId": "84da9eeb-cf0c-4e3f-f0f4-c89b6ab18542"
      },
      "execution_count": null,
      "outputs": [
        {
          "output_type": "stream",
          "name": "stdout",
          "text": [
            "7\n"
          ]
        }
      ]
    },
    {
      "cell_type": "code",
      "source": [
        "#keyword args\n",
        "def operation(single,to_double):\n",
        "  return single + 2*to_double\n",
        "\n",
        "print(operation(1,3))\n",
        "print(operation(to_double = 3,single = 1))"
      ],
      "metadata": {
        "colab": {
          "base_uri": "https://localhost:8080/"
        },
        "id": "zQ8X1E8e6xiA",
        "outputId": "f7e4f63f-6e6a-4d28-8221-b55f5f5b9e90"
      },
      "execution_count": null,
      "outputs": [
        {
          "output_type": "stream",
          "name": "stdout",
          "text": [
            "7\n",
            "7\n"
          ]
        }
      ]
    },
    {
      "cell_type": "code",
      "source": [
        "# sum a list\n",
        "arr = [3,5,7,10]\n",
        "def sumList(arr) :\n",
        "  sum = 0\n",
        "  for ele in arr :\n",
        "    print(ele,sum)\n",
        "    sum = sum + ele\n",
        "  return sum\n",
        "\n",
        "print(sumList(arr))\n"
      ],
      "metadata": {
        "colab": {
          "base_uri": "https://localhost:8080/"
        },
        "id": "7R_R82_V8VoQ",
        "outputId": "96804bea-6368-4a1f-8d25-ba19cf0b4e11"
      },
      "execution_count": null,
      "outputs": [
        {
          "output_type": "stream",
          "name": "stdout",
          "text": [
            "3 0\n",
            "5 3\n",
            "7 8\n",
            "10 15\n",
            "25\n"
          ]
        }
      ]
    },
    {
      "cell_type": "code",
      "source": [
        "#packing arguments - list\n",
        "def sumList(*arr) :\n",
        "  sum = 0\n",
        "  for ele in arr :\n",
        "    sum = sum + ele\n",
        "  return sum\n",
        "\n",
        "sumList(1,2,10)"
      ],
      "metadata": {
        "colab": {
          "base_uri": "https://localhost:8080/"
        },
        "id": "MVE7r1vs-Lvg",
        "outputId": "f3bdb0bb-e4eb-4853-f233-b98a0e96e57d"
      },
      "execution_count": null,
      "outputs": [
        {
          "output_type": "execute_result",
          "data": {
            "text/plain": [
              "(1, 2, 3)"
            ]
          },
          "metadata": {},
          "execution_count": 28
        }
      ]
    },
    {
      "cell_type": "code",
      "source": [
        "def productList(*arr) :\n",
        "  product = 1\n",
        "  for ele in arr :\n",
        "    product = product * ele\n",
        "  return product\n",
        "\n",
        "productList(1,2,10)"
      ],
      "metadata": {
        "colab": {
          "base_uri": "https://localhost:8080/"
        },
        "id": "hskGqKq7AhbA",
        "outputId": "6cc35f6c-dcf7-4a4b-c93c-1aaeb76d6ea8"
      },
      "execution_count": null,
      "outputs": [
        {
          "output_type": "execute_result",
          "data": {
            "text/plain": [
              "20"
            ]
          },
          "metadata": {},
          "execution_count": 30
        }
      ]
    },
    {
      "cell_type": "code",
      "source": [
        "#tuple\n",
        "tup = [1,2,4]\n",
        "print(tup)\n",
        "\n",
        "for ele in tup:\n",
        "  print(ele)\n",
        "\n",
        "print(\"is 3 in the given tuple: \" , 3 in tup)\n",
        "\n",
        "#set\n",
        "set_1 = {1,1,2,3}\n",
        "print(set_1)\n",
        "\n",
        "#given a list, remove duplicates:\n",
        "arr = (5,4,1,2,2,1,3,4)\n",
        "print( set(arr))"
      ],
      "metadata": {
        "colab": {
          "base_uri": "https://localhost:8080/"
        },
        "id": "Oy5G4ULrDBUO",
        "outputId": "68db1e38-d83b-48d1-b411-39bd870e9fb3"
      },
      "execution_count": null,
      "outputs": [
        {
          "output_type": "stream",
          "name": "stdout",
          "text": [
            "[1, 2, 4]\n",
            "1\n",
            "2\n",
            "4\n",
            "is 3 in the given tuple:  False\n",
            "{1, 2, 3}\n",
            "{1, 2, 3, 4, 5}\n"
          ]
        }
      ]
    },
    {
      "cell_type": "code",
      "source": [
        "#dict :\n",
        "# 1 -> \"one\" , 2 -> \"two\" , 3 -> \"three\"\n",
        "dict_1 = {1.5:\"one\" , 2:\"two\" , 3:\"three\"}\n",
        "thisdict = dict(name_1 = \"one\", age = 36, country = \"Norway\")\n",
        "numbers1 = dict([('x', 51), (6, -57)])\n",
        "print(dict_1)\n",
        "\n",
        "\n"
      ],
      "metadata": {
        "colab": {
          "base_uri": "https://localhost:8080/"
        },
        "id": "lHR3PDg5H5LU",
        "outputId": "e9595cfe-aa87-4100-c918-2c681e60fdc9"
      },
      "execution_count": null,
      "outputs": [
        {
          "output_type": "stream",
          "name": "stdout",
          "text": [
            "{1.5: 'one', 2: 'two', 3: 'three'}\n"
          ]
        }
      ]
    },
    {
      "cell_type": "code",
      "source": [
        "#packing arguments - dicts * -> **\n",
        "\n",
        "\n",
        "dict_1 = {1:\"one\" , 2:\"two\" , 3:\"three\"}\n",
        "def printNumToStringKVunpacked(num_dict):\n",
        "  for key,value in num_dict.items() : #unpacking\n",
        "    print(key,value) \n",
        "\n",
        "def printNumToStringKVpacked(num_dict):\n",
        "  for element in num_dict.items() :\n",
        "    print(element) \n",
        "\n",
        "def printNumToStringK(num_dict):\n",
        "  for key in num_dict :\n",
        "    print(key) \n",
        "\n",
        "def printNumToStringV(num_dict):\n",
        "  for value in num_dict.values() :\n",
        "    print(value) \n",
        "\n",
        "printNumToStringV(dict_1)\n",
        "#key, value in dict.items() -> both as unpacked args\n",
        "#element in dict.items() -> both as a tuple pair (key,val)\n",
        "#element, value in dict -> key\n",
        "#value in dict.values() -> val\n",
        "\n",
        "# dict -> keys , dict.items() , dict.values()\n",
        "\n",
        "\n"
      ],
      "metadata": {
        "colab": {
          "base_uri": "https://localhost:8080/"
        },
        "id": "GFD-XnPZMjd8",
        "outputId": "5e8114b3-1185-4fe4-e127-1a18d965070a"
      },
      "execution_count": null,
      "outputs": [
        {
          "output_type": "stream",
          "name": "stdout",
          "text": [
            "one\n",
            "two\n",
            "three\n"
          ]
        }
      ]
    },
    {
      "cell_type": "code",
      "source": [
        "def printNumToStringKVunpacked(**num_dict):\n",
        "  for key,value in dict_1.items() :\n",
        "    print(key,value) \n",
        "\n",
        "#dict_1 = {1:\"one\" , 2:\"two\" , 3:\"three\"}\n",
        "dict_1 = {\"one\":1 , \"two\":2 , \"three\":3}\n",
        "\n",
        "printNumToStringKVunpacked(one = 1, two = 2, three = 3)"
      ],
      "metadata": {
        "colab": {
          "base_uri": "https://localhost:8080/"
        },
        "id": "msbUQQPEQBvq",
        "outputId": "29b4f62e-7524-45d2-ca4f-e7cb289ec7fb"
      },
      "execution_count": null,
      "outputs": [
        {
          "output_type": "stream",
          "name": "stdout",
          "text": [
            "one 1\n",
            "two 2\n",
            "three 3\n"
          ]
        }
      ]
    },
    {
      "cell_type": "code",
      "source": [
        "#function that give sum of a list of numbers\n",
        "# the user can pass either a list or the arguments seperated by comma\n",
        "#function => list_sum"
      ],
      "metadata": {
        "id": "Fd5tf7GtSleg"
      },
      "execution_count": null,
      "outputs": []
    },
    {
      "cell_type": "code",
      "source": [
        "def greet_and_sum(user_name , *args) :\n",
        "  print(\"hello \", user_name ,\"the list you have passed has the sum \", sum(args))\n",
        "\n",
        "greet_and_sum(\"ishan\", 1,2,3,4)"
      ],
      "metadata": {
        "colab": {
          "base_uri": "https://localhost:8080/"
        },
        "id": "6iC4fIwhS1kz",
        "outputId": "a20e0395-8bc0-45ba-86bc-682d6edae0b7"
      },
      "execution_count": null,
      "outputs": [
        {
          "output_type": "stream",
          "name": "stdout",
          "text": [
            "hello  ishan the list you have passed has the sum  10\n"
          ]
        }
      ]
    },
    {
      "cell_type": "code",
      "source": [
        "arr = [1,2,3]\n",
        "print(sum(arr))"
      ],
      "metadata": {
        "colab": {
          "base_uri": "https://localhost:8080/"
        },
        "id": "Y73BStftTGRi",
        "outputId": "e1e036e9-539e-46ca-dbd0-256ad444d581"
      },
      "execution_count": null,
      "outputs": [
        {
          "output_type": "stream",
          "name": "stdout",
          "text": [
            "6\n"
          ]
        }
      ]
    },
    {
      "cell_type": "code",
      "source": [
        "a = 3\n",
        "b = 2\n",
        "a,b = (b,a)\n",
        "print(a,b)\n"
      ],
      "metadata": {
        "colab": {
          "base_uri": "https://localhost:8080/"
        },
        "id": "eOqSqOpiWL4W",
        "outputId": "94473690-2009-4be7-f9bf-b84afc066f70"
      },
      "execution_count": null,
      "outputs": [
        {
          "output_type": "stream",
          "name": "stdout",
          "text": [
            "2 3\n"
          ]
        }
      ]
    },
    {
      "cell_type": "code",
      "source": [
        "print(\"greater\" if 5 > 3 else \"smaller\")"
      ],
      "metadata": {
        "colab": {
          "base_uri": "https://localhost:8080/"
        },
        "id": "NtDCXTmYXMwO",
        "outputId": "79bcab22-90c5-48f2-afc9-1209bb44f703"
      },
      "execution_count": null,
      "outputs": [
        {
          "output_type": "stream",
          "name": "stdout",
          "text": [
            "greater\n"
          ]
        }
      ]
    }
  ]
}